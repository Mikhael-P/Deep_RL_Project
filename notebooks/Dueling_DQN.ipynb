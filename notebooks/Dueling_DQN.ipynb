{
  "nbformat": 4,
  "nbformat_minor": 0,
  "metadata": {
    "colab": {
      "name": "Dueling_DQN.ipynb",
      "provenance": [],
      "collapsed_sections": []
    },
    "kernelspec": {
      "name": "python3",
      "display_name": "Python 3"
    },
    "language_info": {
      "name": "python"
    },
    "accelerator": "GPU"
  },
  "cells": [
    {
      "cell_type": "code",
      "metadata": {
        "id": "qbBSEA71ToWh"
      },
      "source": [
        "import math, random\n",
        "import copy\n",
        "import gym\n",
        "import numpy as np\n",
        "from collections import deque\n",
        "from itertools import count\n",
        "import torch\n",
        "import torch.nn as nn\n",
        "import torch.optim as optim\n",
        "import torch.autograd as autograd \n",
        "import torch.nn.functional as F\n",
        "from IPython.display import clear_output\n",
        "import matplotlib.pyplot as plt\n",
        "%matplotlib inline"
      ],
      "execution_count": null,
      "outputs": []
    },
    {
      "cell_type": "code",
      "metadata": {
        "colab": {
          "base_uri": "https://localhost:8080/"
        },
        "id": "3p1H5Iy4Ua71",
        "outputId": "4f4dbed3-971e-4cb6-e52f-cda0ebafd69f"
      },
      "source": [
        "USE_CUDA = torch.cuda.is_available()\n",
        "Variable = lambda *args, **kwargs: autograd.Variable(*args, **kwargs).cuda() if USE_CUDA else autograd.Variable(*args, **kwargs)\n",
        "USE_CUDA"
      ],
      "execution_count": null,
      "outputs": [
        {
          "output_type": "execute_result",
          "data": {
            "text/plain": [
              "True"
            ]
          },
          "metadata": {},
          "execution_count": 4
        }
      ]
    },
    {
      "cell_type": "code",
      "metadata": {
        "id": "1HVxheIIUDWd"
      },
      "source": [
        "class Model(nn.Module):\n",
        "  \n",
        "  def __init__(self, env):\n",
        "      super(Model, self).__init__()\n",
        "      \n",
        "      \n",
        "      self.feature = nn.Sequential(\n",
        "          nn.Linear(env.observation_space.shape[0], 128),\n",
        "          nn.ReLU()\n",
        "      )\n",
        "      \n",
        "      self.advantage = nn.Sequential(\n",
        "          nn.Linear(128, 128),\n",
        "          nn.ReLU(),\n",
        "          nn.Linear(128, env.action_space.n)\n",
        "      )\n",
        "      \n",
        "      self.value = nn.Sequential(\n",
        "          nn.Linear(128, 128),\n",
        "          nn.ReLU(),\n",
        "          nn.Linear(128, 1)\n",
        "      )\n",
        "      \n",
        "  def policy(self, x):\n",
        "      x = self.feature(x)\n",
        "      advantage = self.advantage(x)\n",
        "      value     = self.value(x)\n",
        "      return value + advantage  - advantage.mean()\n",
        "  \n",
        "  def selection_action(self, state, epsilon):\n",
        "\n",
        "      # \"\"\"\n",
        "      #   This epsilon is for eps-greedy plociy\n",
        "      # \"\"\"\n",
        "    q=0\n",
        "    if random.random() > epsilon:\n",
        "\n",
        "      state= Variable(torch.FloatTensor(state).unsqueeze(0), volatile=True)\n",
        "      q_value= self.policy(state)\n",
        "      action= q_value.max(1)[1].data[0].item() \n",
        "      q= q_value.max(1)[0].data[0].item()\n",
        "    else:\n",
        "\n",
        "      action= random.randrange(env.action_space.n)\n",
        "    return action, q"
      ],
      "execution_count": null,
      "outputs": []
    },
    {
      "cell_type": "code",
      "metadata": {
        "id": "g5BKd25Jng3J"
      },
      "source": [
        ""
      ],
      "execution_count": null,
      "outputs": []
    },
    {
      "cell_type": "code",
      "metadata": {
        "id": "oXadfqkPngye"
      },
      "source": [
        "\n"
      ],
      "execution_count": null,
      "outputs": []
    },
    {
      "cell_type": "code",
      "metadata": {
        "id": "fn6f2GSlUtEx"
      },
      "source": [
        "class Dueling_DQNAgent():\n",
        "  \"\"\"\n",
        "  Class that defines the functions required for training the DQN agent\n",
        "  \"\"\"\n",
        "  def __init__(self, env, batch_size= 32, gamma= 0.99, eps_max= 0.2, lr= 1e-3, N= 100000, eps_end= 0.05, eps_decay= 500):\n",
        "    self.gamma= gamma\n",
        "    # for epsilon-greedy exploration strategy\n",
        "    self.eps_max= eps_max\n",
        "    self.eps_decay= eps_decay\n",
        "    self.eps_end= eps_end\n",
        "    self.lr= lr\n",
        "\n",
        "    self.n_action= env.action_space.n\n",
        "    self.input_dims= env.observation_space.shape[0]\n",
        "    self.memory= N\n",
        "    self.batch_size= batch_size\n",
        "\n",
        "    # instances of the network for current policy and its target\n",
        "    self.q_net= Model(env)\n",
        "    self.tg_net= copy.deepcopy(self.q_net)\n",
        "\n",
        "    self.criteria = torch.nn.MSELoss()\n",
        "    # self.optimizer = torch.optim.SGD(q_net.parameters(), lr=self.lr, momentum=0.9)\n",
        "    self.optimizer = torch.optim.Adam(self.q_net.parameters(), lr=self.lr)\n",
        "\n",
        "    # instance of the replay buffer\n",
        "    self.Buffer = deque(maxlen=self.memory)\n",
        "\n",
        "  def insert(self, state, action, reward, next_state, done):\n",
        "\n",
        "    \"\"\"\n",
        "    sars= (s, a, r, s') this is a transition that will be store in the Buffer.\n",
        "    done is a bool variable, that tells us whether a state is termial or not.\n",
        "    \"\"\"\n",
        "    state= np.expand_dims(state, 0)\n",
        "    next_state= np.expand_dims(next_state, 0)\n",
        "        \n",
        "    self.Buffer.append((state, action, reward, next_state, done))\n",
        "\n",
        "  def buffer_size(self):\n",
        "    \"\"\"\n",
        "      This function return the size of the Replay Buffer.\n",
        "    \"\"\"\n",
        "\n",
        "    return len(self.Buffer)\n",
        "\n",
        "  def sample_Buffer(self, m):\n",
        "    \"\"\"\n",
        "      Function to pick 'm' samples from the memory that are selected uniformly at random, such that m = batchsize\n",
        "\n",
        "      Parameters\n",
        "      ---\n",
        "      batchsize: int\n",
        "          Number of elements to randomly sample from the memory in each batch\n",
        "      device: str\n",
        "          Name of the device (cuda or cpu) on which the computations would be performed\n",
        "\n",
        "      Returns\n",
        "      ---\n",
        "      Tensors representing a batch of transitions sampled from the memory\n",
        "    \"\"\"\n",
        "    state, action, reward, next_state, done = zip(*random.sample(self.Buffer, m))\n",
        "    return np.concatenate(state), action, reward, np.concatenate(next_state), done"
      ],
      "execution_count": null,
      "outputs": []
    },
    {
      "cell_type": "code",
      "metadata": {
        "id": "RXB--eQeWIhW"
      },
      "source": [
        "env = gym.make('CartPole-v1')"
      ],
      "execution_count": null,
      "outputs": []
    },
    {
      "cell_type": "code",
      "metadata": {
        "id": "UXPIwfxAUwbz"
      },
      "source": [
        "epsilon_start = 0.2\n",
        "epsilon_final = 0.05\n",
        "epsilon_decay = 500\n",
        "\n",
        "epsilon_by_frame = lambda frame_idx: epsilon_final + (epsilon_start - epsilon_final) * math.exp(-1. * frame_idx / epsilon_decay) #Frame means episode"
      ],
      "execution_count": null,
      "outputs": []
    },
    {
      "cell_type": "code",
      "metadata": {
        "colab": {
          "base_uri": "https://localhost:8080/",
          "height": 282
        },
        "id": "WDvM2DEvVVZq",
        "outputId": "1791e70f-2dd1-4fa6-af8a-ea42dcf03dab"
      },
      "source": [
        "plt.plot([epsilon_by_frame(i) for i in range(10000)])"
      ],
      "execution_count": null,
      "outputs": [
        {
          "output_type": "execute_result",
          "data": {
            "text/plain": [
              "[<matplotlib.lines.Line2D at 0x7f191cc38910>]"
            ]
          },
          "metadata": {},
          "execution_count": 28
        },
        {
          "output_type": "display_data",
          "data": {
            "image/png": "[encoded data removed]",
            "text/plain": [
              "<Figure size 432x288 with 1 Axes>"
            ]
          },
          "metadata": {
            "needs_background": "light"
          }
        }
      ]
    },
    {
      "cell_type": "code",
      "metadata": {
        "colab": {
          "base_uri": "https://localhost:8080/"
        },
        "id": "34AGyEJxUwiF",
        "outputId": "51b7866a-71e7-4ab4-d385-7a8cb8f33e74"
      },
      "source": [
        "## Instanciate the agent\n",
        "agent = Dueling_DQNAgent(env)\n",
        "q_net = agent.q_net\n",
        "tg_net= agent.tg_net\n",
        "\n",
        "if USE_CUDA:\n",
        "    q_net = q_net.cuda()\n",
        "    tg_net= tg_net.cuda()\n",
        "    \n",
        "grad_clip= 1.0\n",
        "TARGET_UPDATE = 100\n",
        "# tg_net= agent.tg_net.cuda()\n",
        "tg_net.load_state_dict(q_net.state_dict())"
      ],
      "execution_count": null,
      "outputs": [
        {
          "output_type": "execute_result",
          "data": {
            "text/plain": [
              "<All keys matched successfully>"
            ]
          },
          "metadata": {},
          "execution_count": 29
        }
      ]
    },
    {
      "cell_type": "code",
      "metadata": {
        "id": "GT8HKQdmVODQ"
      },
      "source": [
        "def eps_greedy(eps_max, eps_end, episode_idx, eps_decay, num_eps):\n",
        "  return eps_end + (eps_max - eps_end) * math.exp(-1. * episode_idx / eps_decay)"
      ],
      "execution_count": null,
      "outputs": []
    },
    {
      "cell_type": "code",
      "metadata": {
        "id": "z34vADEnWaDT"
      },
      "source": [
        "def train(env):\n",
        "  # if agent.buffer_size() < agent.batch_size:\n",
        "  #   return \n",
        "  s_batch, a_batch, r_batch, s_n_batch, done_bacth = agent.sample_Buffer(agent.batch_size)\n",
        "\n",
        "  s_batch= Variable(torch.FloatTensor(np.float32(s_batch)))\n",
        "  a_batch= Variable(torch.LongTensor(a_batch))\n",
        "\n",
        "  s_n_batch= Variable(torch.FloatTensor(np.float32(s_n_batch)), volatile=True)\n",
        "  r_batch= Variable(torch.FloatTensor(r_batch))\n",
        "\n",
        "  done_bacth= Variable(torch.FloatTensor(done_bacth))\n",
        "\n",
        "  ## We \n",
        "  q_values= q_net.policy(s_batch)\n",
        "\n",
        "  # We Compute the expected Q values by using target Network\n",
        "  next_q_values= tg_net.policy(s_n_batch)\n",
        "\n",
        "  q_value= q_values.gather(1, a_batch.unsqueeze(1)).squeeze(1)\n",
        "  next_q_value= next_q_values.max(1)[0]\n",
        "\n",
        "  expected_q_value= r_batch + agent.gamma * next_q_value * (1 - done_bacth) # Target from Bellmann Equation\n",
        "\n",
        "  ## Loss Computation\n",
        "\n",
        "  # loss= agent.criteria(q_value, expected_q_value)\n",
        "  loss= F.smooth_l1_loss(q_value, expected_q_value).mean()\n",
        "\n",
        "  ## ---- Optimization step ------- ##\n",
        "  agent.optimizer.zero_grad()\n",
        "  loss.backward(retain_graph=True)\n",
        "  agent.optimizer.step()\n",
        "  ## ---- Optimization step ------- ##\n",
        "  \n",
        "  return loss"
      ],
      "execution_count": null,
      "outputs": []
    },
    {
      "cell_type": "code",
      "metadata": {
        "id": "SxDQqDr5Wdav"
      },
      "source": [
        "def plot(frame_idx, rewards, losses):\n",
        "    clear_output(True)\n",
        "    plt.figure(figsize=(20,5))\n",
        "    plt.subplot(131)\n",
        "    plt.title('frame %s. average rewards per episode: %s' % (frame_idx, rewards)) # 100 Last avg\n",
        "    plt.plot(rewards)\n",
        "    plt.subplot(132)\n",
        "    plt.title('loss')\n",
        "    plt.plot(losses)\n",
        "    plt.show()"
      ],
      "execution_count": null,
      "outputs": []
    },
    {
      "cell_type": "code",
      "metadata": {
        "colab": {
          "base_uri": "https://localhost:8080/"
        },
        "id": "pa5ASumUHnpE",
        "outputId": "2770ab0f-a694-4cf2-c53f-fa8ffc11d694"
      },
      "source": [
        "%%time\n",
        "scores, avg_scores, epis_history, losses_all, q_values_all,scores_all, eps_history = [], [], [], [], [], [], []\n",
        "num_episodes= 1500\n",
        "# best_rewards= 0\n",
        "counter= 0\n",
        "scores= []\n",
        "reward_threshold= 475\n",
        "min_episodes_criterion= 500\n",
        "for i in range(1, num_episodes+1):\n",
        "# with tqdm.trange(1, num_episodes) as t:\n",
        "  score= 0\n",
        "  losses= 0\n",
        "  ep_len= 0\n",
        "  done= False\n",
        "  obs= env.reset()\n",
        "\n",
        "  res= [eps_greedy(agent.eps_max, agent.eps_end, episode_idx, agent.eps_decay, num_episodes) for episode_idx in range(num_episodes+1)]\n",
        "  epsilon= res[i]\n",
        "  # epsilon= annealing(agent)\n",
        "\n",
        "  \n",
        "  episode_q_values= []\n",
        "  episode_scores= []\n",
        "  episode_loss= []\n",
        "\n",
        "  # for j in range(min_episodes_criterion):\n",
        "  while not done:\n",
        "\n",
        "  # while not done:\n",
        "    ep_len += 1 \n",
        "\n",
        "    action, q = q_net.selection_action(obs, epsilon)\n",
        "    episode_q_values.append(q)\n",
        "\n",
        "    next_state, reward, done, info = env.step(action)\n",
        "    # reward = reward if not done else -10\n",
        "    score+=reward\n",
        "\n",
        "    ## Store experience to the memeory\n",
        "    agent.insert(obs, action, reward, next_state, done)\n",
        "\n",
        "    obs= next_state\n",
        "\n",
        "    if agent.buffer_size() > agent.batch_size:\n",
        "      loss= train(agent)\n",
        "      episode_loss.append(loss.item())\n",
        "\n",
        "    if i % 10 == 0:\n",
        "      pass # print(f'Episode {i}: average reward: {avg_reward}')\n",
        "    # Early stopping\n",
        "    \n",
        "\n",
        "  losses_all.append(np.mean(episode_loss))\n",
        "  q_values_all.append(np.mean(episode_q_values))\n",
        "  scores.append(score)\n",
        "  # avg_score= np.mean(scores[-100:])\n",
        "  scores_all.append(scores)\n",
        "  epis_history.append(ep_len)\n",
        "  #scores_all.append(np.mean(episode_scores))\n",
        "\n",
        "\n",
        "\n",
        "  #scores_all.append(score) # this stores the sum of scores for all the episodes\n",
        "  # avg_score= np.mean(scores)\n",
        "\n",
        "  eps_history.append(agent.eps_max)\n",
        "  # print(score)\n",
        "\n",
        "  print('episode',i,'/',num_episodes, 'score %.2f' % score, 'Q-values %.2f' % np.mean(episode_q_values), 'epsilon %.5f' % epsilon, 'Loss_episode %.5f' % np.mean(episode_loss))\n",
        "\n",
        "  #Update the target network, copying all weights and biases in DQN\n",
        "\n",
        "  if i % 10 == 0:\n",
        "        tg_net.load_state_dict(q_net.state_dict())\n",
        "\n",
        "  if score > reward_threshold and ep_len >=500: \n",
        "      torch.save(q_net.state_dict(), 'model.ckpt')\n",
        "      break"
      ],
      "execution_count": null,
      "outputs": [
        {
          "output_type": "stream",
          "name": "stderr",
          "text": [
            "/usr/local/lib/python3.7/dist-packages/ipykernel_launcher.py:2: UserWarning: volatile was removed and now has no effect. Use `with torch.no_grad():` instead.\n",
            "  \n",
            "/usr/local/lib/python3.7/dist-packages/numpy/core/fromnumeric.py:3373: RuntimeWarning: Mean of empty slice.\n",
            "  out=out, **kwargs)\n",
            "/usr/local/lib/python3.7/dist-packages/numpy/core/_methods.py:170: RuntimeWarning: invalid value encountered in double_scalars\n",
            "  ret = ret.dtype.type(ret / rcount)\n"
          ]
        },
        {
          "output_type": "stream",
          "name": "stdout",
          "text": [
            "episode 1 / 1500 score 9.00 Q-values 0.11 epsilon 0.19970 Loss_episode nan\n",
            "episode 2 / 1500 score 13.00 Q-values 0.15 epsilon 0.19940 Loss_episode nan\n",
            "episode 3 / 1500 score 11.00 Q-values 0.13 epsilon 0.19910 Loss_episode 1.02367\n",
            "episode 4 / 1500 score 11.00 Q-values 0.53 epsilon 0.19880 Loss_episode 0.29611\n",
            "episode 5 / 1500 score 14.00 Q-values 0.79 epsilon 0.19851 Loss_episode 0.05643\n",
            "episode 6 / 1500 score 13.00 Q-values 0.87 epsilon 0.19821 Loss_episode 0.01849\n",
            "episode 7 / 1500 score 14.00 Q-values 0.90 epsilon 0.19791 Loss_episode 0.00900\n",
            "episode 8 / 1500 score 15.00 Q-values 0.85 epsilon 0.19762 Loss_episode 0.00483\n",
            "episode 9 / 1500 score 13.00 Q-values 1.19 epsilon 0.19732 Loss_episode 0.00543\n",
            "episode 10 / 1500 score 15.00 Q-values 0.86 epsilon 0.19703 Loss_episode 0.00361\n",
            "episode 11 / 1500 score 10.00 Q-values 2.17 epsilon 0.19674 Loss_episode 0.48450\n",
            "episode 12 / 1500 score 14.00 Q-values 1.88 epsilon 0.19644 Loss_episode 0.13603\n",
            "episode 13 / 1500 score 12.00 Q-values 1.68 epsilon 0.19615 Loss_episode 0.13895\n",
            "episode 14 / 1500 score 11.00 Q-values 1.80 epsilon 0.19586 Loss_episode 0.06612\n",
            "episode 15 / 1500 score 16.00 Q-values 1.80 epsilon 0.19557 Loss_episode 0.07023\n",
            "episode 16 / 1500 score 16.00 Q-values 1.63 epsilon 0.19528 Loss_episode 0.07243\n",
            "episode 17 / 1500 score 10.00 Q-values 1.95 epsilon 0.19499 Loss_episode 0.07342\n",
            "episode 18 / 1500 score 10.00 Q-values 2.07 epsilon 0.19470 Loss_episode 0.08081\n",
            "episode 19 / 1500 score 20.00 Q-values 1.62 epsilon 0.19441 Loss_episode 0.07954\n",
            "episode 20 / 1500 score 11.00 Q-values 1.55 epsilon 0.19412 Loss_episode 0.06801\n",
            "episode 21 / 1500 score 12.00 Q-values 1.55 epsilon 0.19383 Loss_episode 0.47822\n",
            "episode 22 / 1500 score 18.00 Q-values 2.22 epsilon 0.19354 Loss_episode 0.29056\n",
            "episode 23 / 1500 score 10.00 Q-values 2.70 epsilon 0.19326 Loss_episode 0.23608\n",
            "episode 24 / 1500 score 12.00 Q-values 2.57 epsilon 0.19297 Loss_episode 0.16923\n",
            "episode 25 / 1500 score 10.00 Q-values 2.57 epsilon 0.19268 Loss_episode 0.15039\n",
            "episode 26 / 1500 score 16.00 Q-values 1.86 epsilon 0.19240 Loss_episode 0.15628\n",
            "episode 27 / 1500 score 14.00 Q-values 2.45 epsilon 0.19211 Loss_episode 0.19288\n",
            "episode 28 / 1500 score 21.00 Q-values 2.65 epsilon 0.19183 Loss_episode 0.15446\n",
            "episode 29 / 1500 score 19.00 Q-values 2.46 epsilon 0.19155 Loss_episode 0.14187\n",
            "episode 30 / 1500 score 15.00 Q-values 2.44 epsilon 0.19126 Loss_episode 0.17661\n",
            "episode 31 / 1500 score 9.00 Q-values 3.44 epsilon 0.19098 Loss_episode 0.56690\n",
            "episode 32 / 1500 score 14.00 Q-values 2.75 epsilon 0.19070 Loss_episode 0.24949\n",
            "episode 33 / 1500 score 17.00 Q-values 2.77 epsilon 0.19042 Loss_episode 0.29148\n",
            "episode 34 / 1500 score 11.00 Q-values 2.90 epsilon 0.19014 Loss_episode 0.24025\n",
            "episode 35 / 1500 score 28.00 Q-values 3.02 epsilon 0.18986 Loss_episode 0.21021\n",
            "episode 36 / 1500 score 16.00 Q-values 2.76 epsilon 0.18958 Loss_episode 0.19396\n",
            "episode 37 / 1500 score 13.00 Q-values 2.80 epsilon 0.18930 Loss_episode 0.22158\n",
            "episode 38 / 1500 score 18.00 Q-values 3.36 epsilon 0.18902 Loss_episode 0.18089\n",
            "episode 39 / 1500 score 18.00 Q-values 3.16 epsilon 0.18874 Loss_episode 0.20075\n",
            "episode 40 / 1500 score 23.00 Q-values 2.94 epsilon 0.18847 Loss_episode 0.16892\n",
            "episode 41 / 1500 score 16.00 Q-values 4.21 epsilon 0.18819 Loss_episode 0.46581\n",
            "episode 42 / 1500 score 58.00 Q-values 3.45 epsilon 0.18791 Loss_episode 0.21094\n",
            "episode 43 / 1500 score 9.00 Q-values 5.88 epsilon 0.18764 Loss_episode 0.37570\n",
            "episode 44 / 1500 score 33.00 Q-values 4.14 epsilon 0.18736 Loss_episode 0.43755\n",
            "episode 45 / 1500 score 28.00 Q-values 3.34 epsilon 0.18709 Loss_episode 0.40363\n",
            "episode 46 / 1500 score 32.00 Q-values 4.86 epsilon 0.18682 Loss_episode 0.27756\n",
            "episode 47 / 1500 score 12.00 Q-values 3.84 epsilon 0.18654 Loss_episode 0.21003\n",
            "episode 48 / 1500 score 9.00 Q-values 5.30 epsilon 0.18627 Loss_episode 0.33394\n",
            "episode 49 / 1500 score 10.00 Q-values 4.42 epsilon 0.18600 Loss_episode 0.46102\n",
            "episode 50 / 1500 score 8.00 Q-values 4.75 epsilon 0.18573 Loss_episode 0.44300\n",
            "episode 51 / 1500 score 13.00 Q-values 5.08 epsilon 0.18545 Loss_episode 1.01604\n",
            "episode 52 / 1500 score 22.00 Q-values 4.43 epsilon 0.18518 Loss_episode 0.50434\n",
            "episode 53 / 1500 score 16.00 Q-values 4.05 epsilon 0.18491 Loss_episode 0.48699\n",
            "episode 54 / 1500 score 11.00 Q-values 4.88 epsilon 0.18464 Loss_episode 0.65712\n",
            "episode 55 / 1500 score 10.00 Q-values 4.41 epsilon 0.18438 Loss_episode 0.62383\n",
            "episode 56 / 1500 score 9.00 Q-values 5.41 epsilon 0.18411 Loss_episode 0.30106\n",
            "episode 57 / 1500 score 120.00 Q-values 4.87 epsilon 0.18384 Loss_episode 0.54658\n",
            "episode 58 / 1500 score 9.00 Q-values 5.19 epsilon 0.18357 Loss_episode 0.70096\n",
            "episode 59 / 1500 score 12.00 Q-values 3.95 epsilon 0.18330 Loss_episode 0.52060\n",
            "episode 60 / 1500 score 14.00 Q-values 3.69 epsilon 0.18304 Loss_episode 0.58311\n",
            "episode 61 / 1500 score 13.00 Q-values 4.49 epsilon 0.18277 Loss_episode 0.88486\n",
            "episode 62 / 1500 score 16.00 Q-values 4.81 epsilon 0.18251 Loss_episode 0.76568\n",
            "episode 63 / 1500 score 13.00 Q-values 5.65 epsilon 0.18224 Loss_episode 0.50462\n",
            "episode 64 / 1500 score 186.00 Q-values 5.57 epsilon 0.18198 Loss_episode 0.51075\n",
            "episode 65 / 1500 score 201.00 Q-values 5.73 epsilon 0.18171 Loss_episode 0.37745\n",
            "episode 66 / 1500 score 307.00 Q-values 5.37 epsilon 0.18145 Loss_episode 0.31142\n",
            "episode 67 / 1500 score 246.00 Q-values 5.42 epsilon 0.18119 Loss_episode 0.24736\n",
            "episode 68 / 1500 score 42.00 Q-values 5.12 epsilon 0.18093 Loss_episode 0.22814\n",
            "episode 69 / 1500 score 196.00 Q-values 5.68 epsilon 0.18066 Loss_episode 0.27365\n",
            "episode 70 / 1500 score 149.00 Q-values 5.39 epsilon 0.18040 Loss_episode 0.19624\n",
            "episode 71 / 1500 score 57.00 Q-values 5.21 epsilon 0.18014 Loss_episode 0.36860\n",
            "episode 72 / 1500 score 195.00 Q-values 6.13 epsilon 0.17988 Loss_episode 0.25896\n",
            "episode 73 / 1500 score 192.00 Q-values 6.38 epsilon 0.17962 Loss_episode 0.22293\n",
            "episode 74 / 1500 score 107.00 Q-values 6.27 epsilon 0.17936 Loss_episode 0.21081\n",
            "episode 75 / 1500 score 61.00 Q-values 6.50 epsilon 0.17911 Loss_episode 0.24106\n",
            "episode 76 / 1500 score 224.00 Q-values 6.44 epsilon 0.17885 Loss_episode 0.18443\n",
            "episode 77 / 1500 score 189.00 Q-values 6.53 epsilon 0.17859 Loss_episode 0.21055\n",
            "episode 78 / 1500 score 199.00 Q-values 6.68 epsilon 0.17833 Loss_episode 0.19355\n",
            "episode 79 / 1500 score 120.00 Q-values 6.29 epsilon 0.17808 Loss_episode 0.16207\n",
            "episode 80 / 1500 score 193.00 Q-values 6.37 epsilon 0.17782 Loss_episode 0.15634\n",
            "episode 81 / 1500 score 159.00 Q-values 6.88 epsilon 0.17757 Loss_episode 0.23854\n",
            "episode 82 / 1500 score 182.00 Q-values 6.91 epsilon 0.17731 Loss_episode 0.22308\n",
            "episode 83 / 1500 score 24.00 Q-values 6.33 epsilon 0.17706 Loss_episode 0.14112\n",
            "episode 84 / 1500 score 155.00 Q-values 7.00 epsilon 0.17680 Loss_episode 0.18505\n",
            "episode 85 / 1500 score 177.00 Q-values 6.91 epsilon 0.17655 Loss_episode 0.22026\n",
            "episode 86 / 1500 score 159.00 Q-values 7.19 epsilon 0.17630 Loss_episode 0.15738\n",
            "episode 87 / 1500 score 192.00 Q-values 7.12 epsilon 0.17604 Loss_episode 0.15140\n",
            "episode 88 / 1500 score 218.00 Q-values 6.69 epsilon 0.17579 Loss_episode 0.15246\n",
            "episode 89 / 1500 score 160.00 Q-values 7.35 epsilon 0.17554 Loss_episode 0.15820\n",
            "episode 90 / 1500 score 183.00 Q-values 6.77 epsilon 0.17529 Loss_episode 0.17191\n",
            "episode 91 / 1500 score 142.00 Q-values 7.84 epsilon 0.17504 Loss_episode 0.23297\n",
            "episode 92 / 1500 score 162.00 Q-values 7.63 epsilon 0.17479 Loss_episode 0.19295\n",
            "episode 93 / 1500 score 156.00 Q-values 7.85 epsilon 0.17454 Loss_episode 0.15105\n",
            "episode 94 / 1500 score 163.00 Q-values 7.79 epsilon 0.17429 Loss_episode 0.18731\n",
            "episode 95 / 1500 score 141.00 Q-values 7.72 epsilon 0.17404 Loss_episode 0.12649\n",
            "episode 96 / 1500 score 143.00 Q-values 7.59 epsilon 0.17380 Loss_episode 0.16167\n",
            "episode 97 / 1500 score 154.00 Q-values 7.12 epsilon 0.17355 Loss_episode 0.17728\n",
            "episode 98 / 1500 score 150.00 Q-values 7.66 epsilon 0.17330 Loss_episode 0.17692\n",
            "episode 99 / 1500 score 148.00 Q-values 7.64 epsilon 0.17306 Loss_episode 0.13358\n",
            "episode 100 / 1500 score 149.00 Q-values 7.79 epsilon 0.17281 Loss_episode 0.17768\n",
            "episode 101 / 1500 score 146.00 Q-values 7.94 epsilon 0.17256 Loss_episode 0.19823\n",
            "episode 102 / 1500 score 154.00 Q-values 8.19 epsilon 0.17232 Loss_episode 0.20041\n",
            "episode 103 / 1500 score 130.00 Q-values 8.09 epsilon 0.17207 Loss_episode 0.22005\n",
            "episode 104 / 1500 score 150.00 Q-values 8.39 epsilon 0.17183 Loss_episode 0.14783\n",
            "episode 105 / 1500 score 143.00 Q-values 7.84 epsilon 0.17159 Loss_episode 0.17478\n",
            "episode 106 / 1500 score 158.00 Q-values 8.31 epsilon 0.17134 Loss_episode 0.13489\n",
            "episode 107 / 1500 score 143.00 Q-values 8.57 epsilon 0.17110 Loss_episode 0.18177\n",
            "episode 108 / 1500 score 140.00 Q-values 8.45 epsilon 0.17086 Loss_episode 0.13274\n",
            "episode 109 / 1500 score 155.00 Q-values 7.99 epsilon 0.17062 Loss_episode 0.16265\n",
            "episode 110 / 1500 score 153.00 Q-values 8.48 epsilon 0.17038 Loss_episode 0.16826\n",
            "episode 111 / 1500 score 149.00 Q-values 8.87 epsilon 0.17014 Loss_episode 0.22311\n",
            "episode 112 / 1500 score 247.00 Q-values 9.30 epsilon 0.16990 Loss_episode 0.21356\n",
            "episode 113 / 1500 score 222.00 Q-values 8.99 epsilon 0.16966 Loss_episode 0.15376\n",
            "episode 114 / 1500 score 195.00 Q-values 9.52 epsilon 0.16942 Loss_episode 0.15571\n",
            "episode 115 / 1500 score 209.00 Q-values 9.02 epsilon 0.16918 Loss_episode 0.19180\n",
            "episode 116 / 1500 score 170.00 Q-values 9.11 epsilon 0.16894 Loss_episode 0.13219\n",
            "episode 117 / 1500 score 168.00 Q-values 9.05 epsilon 0.16870 Loss_episode 0.10859\n",
            "episode 118 / 1500 score 161.00 Q-values 9.64 epsilon 0.16847 Loss_episode 0.11713\n",
            "episode 119 / 1500 score 205.00 Q-values 9.19 epsilon 0.16823 Loss_episode 0.16566\n",
            "episode 120 / 1500 score 194.00 Q-values 8.93 epsilon 0.16799 Loss_episode 0.14628\n",
            "episode 121 / 1500 score 160.00 Q-values 9.48 epsilon 0.16776 Loss_episode 0.21613\n",
            "episode 122 / 1500 score 212.00 Q-values 10.24 epsilon 0.16752 Loss_episode 0.18420\n",
            "episode 123 / 1500 score 225.00 Q-values 10.52 epsilon 0.16729 Loss_episode 0.16490\n",
            "episode 124 / 1500 score 211.00 Q-values 10.48 epsilon 0.16705 Loss_episode 0.17005\n",
            "episode 125 / 1500 score 216.00 Q-values 10.21 epsilon 0.16682 Loss_episode 0.13339\n",
            "episode 126 / 1500 score 283.00 Q-values 10.61 epsilon 0.16659 Loss_episode 0.16484\n",
            "episode 127 / 1500 score 196.00 Q-values 10.21 epsilon 0.16635 Loss_episode 0.18971\n",
            "episode 128 / 1500 score 265.00 Q-values 11.18 epsilon 0.16612 Loss_episode 0.15983\n",
            "episode 129 / 1500 score 223.00 Q-values 10.21 epsilon 0.16589 Loss_episode 0.20642\n",
            "episode 130 / 1500 score 285.00 Q-values 10.83 epsilon 0.16566 Loss_episode 0.18107\n",
            "episode 131 / 1500 score 283.00 Q-values 11.44 epsilon 0.16543 Loss_episode 0.25746\n",
            "episode 132 / 1500 score 216.00 Q-values 11.98 epsilon 0.16520 Loss_episode 0.20664\n",
            "episode 133 / 1500 score 388.00 Q-values 11.64 epsilon 0.16497 Loss_episode 0.21967\n",
            "episode 134 / 1500 score 117.00 Q-values 11.17 epsilon 0.16474 Loss_episode 0.23301\n",
            "episode 135 / 1500 score 235.00 Q-values 11.56 epsilon 0.16451 Loss_episode 0.21239\n",
            "episode 136 / 1500 score 121.00 Q-values 11.34 epsilon 0.16428 Loss_episode 0.14253\n",
            "episode 137 / 1500 score 155.00 Q-values 9.32 epsilon 0.16405 Loss_episode 0.22099\n",
            "episode 138 / 1500 score 289.00 Q-values 11.44 epsilon 0.16382 Loss_episode 0.14396\n",
            "episode 139 / 1500 score 209.00 Q-values 11.63 epsilon 0.16359 Loss_episode 0.21106\n",
            "episode 140 / 1500 score 209.00 Q-values 11.17 epsilon 0.16337 Loss_episode 0.20242\n",
            "episode 141 / 1500 score 214.00 Q-values 11.85 epsilon 0.16314 Loss_episode 0.16928\n",
            "episode 142 / 1500 score 164.00 Q-values 11.30 epsilon 0.16291 Loss_episode 0.23247\n",
            "episode 143 / 1500 score 337.00 Q-values 12.49 epsilon 0.16269 Loss_episode 0.23004\n",
            "episode 144 / 1500 score 102.00 Q-values 11.35 epsilon 0.16246 Loss_episode 0.14125\n",
            "episode 145 / 1500 score 180.00 Q-values 12.51 epsilon 0.16224 Loss_episode 0.26627\n",
            "episode 146 / 1500 score 155.00 Q-values 12.21 epsilon 0.16202 Loss_episode 0.20168\n",
            "episode 147 / 1500 score 250.00 Q-values 12.79 epsilon 0.16179 Loss_episode 0.20523\n",
            "episode 148 / 1500 score 183.00 Q-values 11.66 epsilon 0.16157 Loss_episode 0.25369\n",
            "episode 149 / 1500 score 179.00 Q-values 12.12 epsilon 0.16135 Loss_episode 0.16706\n",
            "episode 150 / 1500 score 167.00 Q-values 11.78 epsilon 0.16112 Loss_episode 0.23180\n",
            "episode 151 / 1500 score 229.00 Q-values 12.40 epsilon 0.16090 Loss_episode 0.16004\n",
            "episode 152 / 1500 score 155.00 Q-values 12.90 epsilon 0.16068 Loss_episode 0.16034\n",
            "episode 153 / 1500 score 308.00 Q-values 13.07 epsilon 0.16046 Loss_episode 0.17472\n",
            "episode 154 / 1500 score 255.00 Q-values 12.62 epsilon 0.16024 Loss_episode 0.16132\n",
            "episode 155 / 1500 score 168.00 Q-values 12.47 epsilon 0.16002 Loss_episode 0.12177\n",
            "episode 156 / 1500 score 177.00 Q-values 13.63 epsilon 0.15980 Loss_episode 0.23020\n",
            "episode 157 / 1500 score 147.00 Q-values 12.27 epsilon 0.15958 Loss_episode 0.11562\n",
            "episode 158 / 1500 score 176.00 Q-values 12.65 epsilon 0.15936 Loss_episode 0.16950\n",
            "episode 159 / 1500 score 197.00 Q-values 12.82 epsilon 0.15914 Loss_episode 0.28041\n",
            "episode 160 / 1500 score 166.00 Q-values 13.48 epsilon 0.15892 Loss_episode 0.12419\n",
            "episode 161 / 1500 score 175.00 Q-values 12.30 epsilon 0.15870 Loss_episode 0.21229\n",
            "episode 162 / 1500 score 191.00 Q-values 12.22 epsilon 0.15849 Loss_episode 0.30632\n",
            "episode 163 / 1500 score 166.00 Q-values 12.88 epsilon 0.15827 Loss_episode 0.21233\n",
            "episode 164 / 1500 score 171.00 Q-values 13.43 epsilon 0.15805 Loss_episode 0.22639\n",
            "episode 165 / 1500 score 260.00 Q-values 14.03 epsilon 0.15784 Loss_episode 0.21475\n",
            "episode 166 / 1500 score 205.00 Q-values 14.03 epsilon 0.15762 Loss_episode 0.19960\n",
            "episode 167 / 1500 score 158.00 Q-values 13.02 epsilon 0.15741 Loss_episode 0.15245\n",
            "episode 168 / 1500 score 164.00 Q-values 13.19 epsilon 0.15719 Loss_episode 0.23429\n",
            "episode 169 / 1500 score 177.00 Q-values 13.47 epsilon 0.15698 Loss_episode 0.20490\n",
            "episode 170 / 1500 score 174.00 Q-values 13.27 epsilon 0.15677 Loss_episode 0.19103\n",
            "episode 171 / 1500 score 231.00 Q-values 14.29 epsilon 0.15655 Loss_episode 0.18100\n",
            "episode 172 / 1500 score 161.00 Q-values 13.13 epsilon 0.15634 Loss_episode 0.37718\n",
            "episode 173 / 1500 score 182.00 Q-values 12.90 epsilon 0.15613 Loss_episode 0.23434\n",
            "episode 174 / 1500 score 97.00 Q-values 12.67 epsilon 0.15591 Loss_episode 0.25092\n",
            "episode 175 / 1500 score 69.00 Q-values 15.25 epsilon 0.15570 Loss_episode 0.22930\n",
            "episode 176 / 1500 score 120.00 Q-values 12.30 epsilon 0.15549 Loss_episode 0.21086\n",
            "episode 177 / 1500 score 157.00 Q-values 13.91 epsilon 0.15528 Loss_episode 0.15861\n",
            "episode 178 / 1500 score 134.00 Q-values 13.28 epsilon 0.15507 Loss_episode 0.28515\n",
            "episode 179 / 1500 score 145.00 Q-values 13.51 epsilon 0.15486 Loss_episode 0.27233\n",
            "episode 180 / 1500 score 146.00 Q-values 13.67 epsilon 0.15465 Loss_episode 0.18230\n",
            "episode 181 / 1500 score 148.00 Q-values 14.44 epsilon 0.15444 Loss_episode 0.25935\n",
            "episode 182 / 1500 score 186.00 Q-values 15.12 epsilon 0.15423 Loss_episode 0.18105\n",
            "episode 183 / 1500 score 122.00 Q-values 12.71 epsilon 0.15403 Loss_episode 0.20416\n",
            "episode 184 / 1500 score 128.00 Q-values 13.65 epsilon 0.15382 Loss_episode 0.29990\n",
            "episode 185 / 1500 score 130.00 Q-values 14.89 epsilon 0.15361 Loss_episode 0.18257\n",
            "episode 186 / 1500 score 40.00 Q-values 12.62 epsilon 0.15340 Loss_episode 0.24626\n",
            "episode 187 / 1500 score 116.00 Q-values 12.82 epsilon 0.15320 Loss_episode 0.14195\n",
            "episode 188 / 1500 score 150.00 Q-values 14.04 epsilon 0.15299 Loss_episode 0.32883\n",
            "episode 189 / 1500 score 195.00 Q-values 15.11 epsilon 0.15278 Loss_episode 0.24638\n",
            "episode 190 / 1500 score 131.00 Q-values 14.18 epsilon 0.15258 Loss_episode 0.24249\n",
            "episode 191 / 1500 score 50.00 Q-values 13.50 epsilon 0.15237 Loss_episode 0.30398\n",
            "episode 192 / 1500 score 119.00 Q-values 14.69 epsilon 0.15217 Loss_episode 0.27267\n",
            "episode 193 / 1500 score 153.00 Q-values 13.87 epsilon 0.15197 Loss_episode 0.25806\n",
            "episode 194 / 1500 score 134.00 Q-values 15.89 epsilon 0.15176 Loss_episode 0.24016\n",
            "episode 195 / 1500 score 220.00 Q-values 16.19 epsilon 0.15156 Loss_episode 0.31726\n",
            "episode 196 / 1500 score 184.00 Q-values 16.48 epsilon 0.15136 Loss_episode 0.29609\n",
            "episode 197 / 1500 score 144.00 Q-values 15.11 epsilon 0.15115 Loss_episode 0.13923\n",
            "episode 198 / 1500 score 126.00 Q-values 14.61 epsilon 0.15095 Loss_episode 0.11785\n",
            "episode 199 / 1500 score 155.00 Q-values 16.00 epsilon 0.15075 Loss_episode 0.19667\n",
            "episode 200 / 1500 score 122.00 Q-values 14.45 epsilon 0.15055 Loss_episode 0.28131\n",
            "episode 201 / 1500 score 30.00 Q-values 16.89 epsilon 0.15035 Loss_episode 0.34243\n",
            "episode 202 / 1500 score 156.00 Q-values 16.00 epsilon 0.15015 Loss_episode 0.22762\n",
            "episode 203 / 1500 score 202.00 Q-values 16.26 epsilon 0.14995 Loss_episode 0.23234\n",
            "episode 204 / 1500 score 199.00 Q-values 16.50 epsilon 0.14975 Loss_episode 0.20528\n",
            "episode 205 / 1500 score 255.00 Q-values 16.98 epsilon 0.14955 Loss_episode 0.15389\n",
            "episode 206 / 1500 score 199.00 Q-values 16.54 epsilon 0.14935 Loss_episode 0.14148\n",
            "episode 207 / 1500 score 133.00 Q-values 16.02 epsilon 0.14915 Loss_episode 0.17275\n",
            "episode 208 / 1500 score 144.00 Q-values 16.30 epsilon 0.14895 Loss_episode 0.20233\n",
            "episode 209 / 1500 score 175.00 Q-values 16.03 epsilon 0.14875 Loss_episode 0.23195\n",
            "episode 210 / 1500 score 171.00 Q-values 16.21 epsilon 0.14856 Loss_episode 0.19921\n",
            "episode 211 / 1500 score 140.00 Q-values 17.14 epsilon 0.14836 Loss_episode 0.31523\n",
            "episode 212 / 1500 score 172.00 Q-values 17.08 epsilon 0.14816 Loss_episode 0.21828\n",
            "episode 213 / 1500 score 145.00 Q-values 17.31 epsilon 0.14797 Loss_episode 0.23954\n",
            "episode 214 / 1500 score 149.00 Q-values 17.25 epsilon 0.14777 Loss_episode 0.24414\n",
            "episode 215 / 1500 score 143.00 Q-values 16.79 epsilon 0.14758 Loss_episode 0.16076\n",
            "episode 216 / 1500 score 145.00 Q-values 16.04 epsilon 0.14738 Loss_episode 0.23959\n",
            "episode 217 / 1500 score 19.00 Q-values 13.25 epsilon 0.14719 Loss_episode 0.18533\n",
            "episode 218 / 1500 score 146.00 Q-values 17.31 epsilon 0.14699 Loss_episode 0.21540\n",
            "episode 219 / 1500 score 184.00 Q-values 17.28 epsilon 0.14680 Loss_episode 0.21187\n",
            "episode 220 / 1500 score 145.00 Q-values 17.36 epsilon 0.14661 Loss_episode 0.21887\n",
            "episode 221 / 1500 score 153.00 Q-values 17.34 epsilon 0.14641 Loss_episode 0.22495\n",
            "episode 222 / 1500 score 146.00 Q-values 18.05 epsilon 0.14622 Loss_episode 0.24811\n",
            "episode 223 / 1500 score 150.00 Q-values 18.92 epsilon 0.14603 Loss_episode 0.20426\n",
            "episode 224 / 1500 score 167.00 Q-values 18.69 epsilon 0.14584 Loss_episode 0.25420\n",
            "episode 225 / 1500 score 165.00 Q-values 17.41 epsilon 0.14564 Loss_episode 0.17125\n",
            "episode 226 / 1500 score 145.00 Q-values 17.70 epsilon 0.14545 Loss_episode 0.24385\n",
            "episode 227 / 1500 score 154.00 Q-values 18.41 epsilon 0.14526 Loss_episode 0.16255\n",
            "episode 228 / 1500 score 175.00 Q-values 17.81 epsilon 0.14507 Loss_episode 0.21485\n",
            "episode 229 / 1500 score 162.00 Q-values 18.28 epsilon 0.14488 Loss_episode 0.18552\n",
            "episode 230 / 1500 score 175.00 Q-values 17.96 epsilon 0.14469 Loss_episode 0.26742\n",
            "episode 231 / 1500 score 53.00 Q-values 21.26 epsilon 0.14450 Loss_episode 0.23957\n",
            "episode 232 / 1500 score 126.00 Q-values 19.87 epsilon 0.14431 Loss_episode 0.21306\n",
            "episode 233 / 1500 score 135.00 Q-values 18.29 epsilon 0.14413 Loss_episode 0.15582\n",
            "episode 234 / 1500 score 127.00 Q-values 18.86 epsilon 0.14394 Loss_episode 0.20234\n",
            "episode 235 / 1500 score 143.00 Q-values 19.07 epsilon 0.14375 Loss_episode 0.15984\n",
            "episode 236 / 1500 score 129.00 Q-values 17.90 epsilon 0.14356 Loss_episode 0.24872\n",
            "episode 237 / 1500 score 145.00 Q-values 19.31 epsilon 0.14338 Loss_episode 0.17954\n",
            "episode 238 / 1500 score 147.00 Q-values 18.91 epsilon 0.14319 Loss_episode 0.25927\n",
            "episode 239 / 1500 score 129.00 Q-values 17.62 epsilon 0.14300 Loss_episode 0.13525\n",
            "episode 240 / 1500 score 129.00 Q-values 17.74 epsilon 0.14282 Loss_episode 0.16242\n",
            "episode 241 / 1500 score 142.00 Q-values 20.08 epsilon 0.14263 Loss_episode 0.37354\n",
            "episode 242 / 1500 score 146.00 Q-values 20.37 epsilon 0.14245 Loss_episode 0.26039\n",
            "episode 243 / 1500 score 136.00 Q-values 19.46 epsilon 0.14226 Loss_episode 0.25327\n",
            "episode 244 / 1500 score 150.00 Q-values 19.68 epsilon 0.14208 Loss_episode 0.21015\n",
            "episode 245 / 1500 score 125.00 Q-values 20.90 epsilon 0.14189 Loss_episode 0.28410\n",
            "episode 246 / 1500 score 134.00 Q-values 18.52 epsilon 0.14171 Loss_episode 0.23396\n",
            "episode 247 / 1500 score 136.00 Q-values 19.17 epsilon 0.14153 Loss_episode 0.18860\n",
            "episode 248 / 1500 score 136.00 Q-values 19.11 epsilon 0.14134 Loss_episode 0.27937\n",
            "episode 249 / 1500 score 137.00 Q-values 19.78 epsilon 0.14116 Loss_episode 0.21575\n",
            "episode 250 / 1500 score 152.00 Q-values 18.85 epsilon 0.14098 Loss_episode 0.33083\n",
            "episode 251 / 1500 score 134.00 Q-values 20.68 epsilon 0.14080 Loss_episode 0.32442\n",
            "episode 252 / 1500 score 132.00 Q-values 21.59 epsilon 0.14062 Loss_episode 0.23007\n",
            "episode 253 / 1500 score 138.00 Q-values 20.37 epsilon 0.14044 Loss_episode 0.25049\n",
            "episode 254 / 1500 score 121.00 Q-values 21.40 epsilon 0.14025 Loss_episode 0.23111\n",
            "episode 255 / 1500 score 125.00 Q-values 20.80 epsilon 0.14007 Loss_episode 0.15906\n",
            "episode 256 / 1500 score 119.00 Q-values 21.35 epsilon 0.13989 Loss_episode 0.16212\n",
            "episode 257 / 1500 score 136.00 Q-values 19.87 epsilon 0.13971 Loss_episode 0.25754\n",
            "episode 258 / 1500 score 139.00 Q-values 22.08 epsilon 0.13954 Loss_episode 0.25629\n",
            "episode 259 / 1500 score 125.00 Q-values 20.52 epsilon 0.13936 Loss_episode 0.18046\n",
            "episode 260 / 1500 score 137.00 Q-values 21.33 epsilon 0.13918 Loss_episode 0.23891\n",
            "episode 261 / 1500 score 131.00 Q-values 21.77 epsilon 0.13900 Loss_episode 0.26874\n",
            "episode 262 / 1500 score 137.00 Q-values 20.37 epsilon 0.13882 Loss_episode 0.14059\n",
            "episode 263 / 1500 score 141.00 Q-values 21.57 epsilon 0.13864 Loss_episode 0.24670\n",
            "episode 264 / 1500 score 135.00 Q-values 19.77 epsilon 0.13847 Loss_episode 0.26686\n",
            "episode 265 / 1500 score 141.00 Q-values 21.35 epsilon 0.13829 Loss_episode 0.24787\n",
            "episode 266 / 1500 score 132.00 Q-values 19.00 epsilon 0.13811 Loss_episode 0.22354\n",
            "episode 267 / 1500 score 140.00 Q-values 20.78 epsilon 0.13794 Loss_episode 0.28021\n",
            "episode 268 / 1500 score 130.00 Q-values 20.90 epsilon 0.13776 Loss_episode 0.24143\n",
            "episode 269 / 1500 score 129.00 Q-values 21.32 epsilon 0.13759 Loss_episode 0.26398\n",
            "episode 270 / 1500 score 132.00 Q-values 21.38 epsilon 0.13741 Loss_episode 0.20686\n",
            "episode 271 / 1500 score 140.00 Q-values 20.76 epsilon 0.13724 Loss_episode 0.30106\n",
            "episode 272 / 1500 score 141.00 Q-values 21.95 epsilon 0.13706 Loss_episode 0.28420\n",
            "episode 273 / 1500 score 139.00 Q-values 21.41 epsilon 0.13689 Loss_episode 0.13959\n",
            "episode 274 / 1500 score 141.00 Q-values 21.20 epsilon 0.13672 Loss_episode 0.17712\n",
            "episode 275 / 1500 score 137.00 Q-values 21.12 epsilon 0.13654 Loss_episode 0.16549\n",
            "episode 276 / 1500 score 137.00 Q-values 21.59 epsilon 0.13637 Loss_episode 0.40719\n",
            "episode 277 / 1500 score 149.00 Q-values 21.84 epsilon 0.13620 Loss_episode 0.20505\n",
            "episode 278 / 1500 score 128.00 Q-values 21.75 epsilon 0.13602 Loss_episode 0.32232\n",
            "episode 279 / 1500 score 145.00 Q-values 21.12 epsilon 0.13585 Loss_episode 0.30260\n",
            "episode 280 / 1500 score 149.00 Q-values 21.99 epsilon 0.13568 Loss_episode 0.23271\n",
            "episode 281 / 1500 score 169.00 Q-values 22.22 epsilon 0.13551 Loss_episode 0.21544\n",
            "episode 282 / 1500 score 172.00 Q-values 22.33 epsilon 0.13534 Loss_episode 0.36367\n",
            "episode 283 / 1500 score 183.00 Q-values 22.97 epsilon 0.13517 Loss_episode 0.22687\n",
            "episode 284 / 1500 score 11.00 Q-values 20.34 epsilon 0.13500 Loss_episode 1.11145\n",
            "episode 285 / 1500 score 207.00 Q-values 23.04 epsilon 0.13483 Loss_episode 0.29188\n",
            "episode 286 / 1500 score 179.00 Q-values 22.91 epsilon 0.13466 Loss_episode 0.22181\n",
            "episode 287 / 1500 score 148.00 Q-values 22.80 epsilon 0.13449 Loss_episode 0.17639\n",
            "episode 288 / 1500 score 16.00 Q-values 21.60 epsilon 0.13432 Loss_episode 0.38818\n",
            "episode 289 / 1500 score 149.00 Q-values 20.87 epsilon 0.13415 Loss_episode 0.17362\n",
            "episode 290 / 1500 score 167.00 Q-values 21.06 epsilon 0.13398 Loss_episode 0.17389\n",
            "episode 291 / 1500 score 145.00 Q-values 21.34 epsilon 0.13382 Loss_episode 0.36766\n",
            "episode 292 / 1500 score 138.00 Q-values 22.48 epsilon 0.13365 Loss_episode 0.38366\n",
            "episode 293 / 1500 score 154.00 Q-values 22.05 epsilon 0.13348 Loss_episode 0.27125\n",
            "episode 294 / 1500 score 35.00 Q-values 25.56 epsilon 0.13332 Loss_episode 0.22064\n",
            "episode 295 / 1500 score 134.00 Q-values 22.59 epsilon 0.13315 Loss_episode 0.13345\n",
            "episode 296 / 1500 score 142.00 Q-values 23.40 epsilon 0.13298 Loss_episode 0.24186\n",
            "episode 297 / 1500 score 144.00 Q-values 22.97 epsilon 0.13282 Loss_episode 0.29510\n",
            "episode 298 / 1500 score 136.00 Q-values 23.11 epsilon 0.13265 Loss_episode 0.28829\n",
            "episode 299 / 1500 score 147.00 Q-values 23.50 epsilon 0.13249 Loss_episode 0.39523\n",
            "episode 300 / 1500 score 159.00 Q-values 22.95 epsilon 0.13232 Loss_episode 0.23491\n",
            "episode 301 / 1500 score 109.00 Q-values 22.27 epsilon 0.13216 Loss_episode 0.45014\n",
            "episode 302 / 1500 score 123.00 Q-values 21.71 epsilon 0.13199 Loss_episode 0.30431\n",
            "episode 303 / 1500 score 111.00 Q-values 21.10 epsilon 0.13183 Loss_episode 0.30124\n",
            "episode 304 / 1500 score 140.00 Q-values 24.33 epsilon 0.13167 Loss_episode 0.36701\n",
            "episode 305 / 1500 score 139.00 Q-values 21.54 epsilon 0.13150 Loss_episode 0.19401\n",
            "episode 306 / 1500 score 143.00 Q-values 22.79 epsilon 0.13134 Loss_episode 0.29831\n",
            "episode 307 / 1500 score 111.00 Q-values 20.77 epsilon 0.13118 Loss_episode 0.39291\n",
            "episode 308 / 1500 score 125.00 Q-values 21.58 epsilon 0.13102 Loss_episode 0.18890\n",
            "episode 309 / 1500 score 117.00 Q-values 21.79 epsilon 0.13085 Loss_episode 0.29803\n",
            "episode 310 / 1500 score 115.00 Q-values 22.15 epsilon 0.13069 Loss_episode 0.18815\n",
            "episode 311 / 1500 score 143.00 Q-values 24.73 epsilon 0.13053 Loss_episode 0.32760\n",
            "episode 312 / 1500 score 121.00 Q-values 22.35 epsilon 0.13037 Loss_episode 0.32090\n",
            "episode 313 / 1500 score 163.00 Q-values 23.88 epsilon 0.13021 Loss_episode 0.22768\n",
            "episode 314 / 1500 score 158.00 Q-values 24.19 epsilon 0.13005 Loss_episode 0.33422\n",
            "episode 315 / 1500 score 178.00 Q-values 25.13 epsilon 0.12989 Loss_episode 0.35191\n",
            "episode 316 / 1500 score 167.00 Q-values 24.51 epsilon 0.12973 Loss_episode 0.16483\n",
            "episode 317 / 1500 score 155.00 Q-values 24.40 epsilon 0.12957 Loss_episode 0.12268\n",
            "episode 318 / 1500 score 164.00 Q-values 23.34 epsilon 0.12941 Loss_episode 0.28795\n",
            "episode 319 / 1500 score 181.00 Q-values 23.77 epsilon 0.12925 Loss_episode 0.26679\n",
            "episode 320 / 1500 score 140.00 Q-values 25.40 epsilon 0.12909 Loss_episode 0.37370\n",
            "episode 321 / 1500 score 165.00 Q-values 24.78 epsilon 0.12894 Loss_episode 0.24835\n",
            "episode 322 / 1500 score 10.00 Q-values 19.70 epsilon 0.12878 Loss_episode 0.40931\n",
            "episode 323 / 1500 score 170.00 Q-values 23.77 epsilon 0.12862 Loss_episode 0.12926\n",
            "episode 324 / 1500 score 146.00 Q-values 23.41 epsilon 0.12846 Loss_episode 0.18193\n",
            "episode 325 / 1500 score 134.00 Q-values 24.58 epsilon 0.12831 Loss_episode 0.30689\n",
            "episode 326 / 1500 score 163.00 Q-values 25.27 epsilon 0.12815 Loss_episode 0.31128\n",
            "episode 327 / 1500 score 150.00 Q-values 25.43 epsilon 0.12799 Loss_episode 0.39596\n",
            "episode 328 / 1500 score 96.00 Q-values 27.33 epsilon 0.12784 Loss_episode 0.46732\n",
            "episode 329 / 1500 score 146.00 Q-values 24.86 epsilon 0.12768 Loss_episode 0.19904\n",
            "episode 330 / 1500 score 153.00 Q-values 24.51 epsilon 0.12753 Loss_episode 0.27007\n",
            "episode 331 / 1500 score 123.00 Q-values 24.88 epsilon 0.12737 Loss_episode 0.18560\n",
            "episode 332 / 1500 score 132.00 Q-values 24.90 epsilon 0.12722 Loss_episode 0.13715\n",
            "episode 333 / 1500 score 121.00 Q-values 26.39 epsilon 0.12706 Loss_episode 0.28996\n",
            "episode 334 / 1500 score 133.00 Q-values 27.16 epsilon 0.12691 Loss_episode 0.60023\n",
            "episode 335 / 1500 score 167.00 Q-values 25.66 epsilon 0.12676 Loss_episode 0.19595\n",
            "episode 336 / 1500 score 160.00 Q-values 26.43 epsilon 0.12660 Loss_episode 0.35820\n",
            "episode 337 / 1500 score 136.00 Q-values 26.19 epsilon 0.12645 Loss_episode 0.41823\n",
            "episode 338 / 1500 score 10.00 Q-values 17.02 epsilon 0.12630 Loss_episode 0.29347\n",
            "episode 339 / 1500 score 106.00 Q-values 24.34 epsilon 0.12614 Loss_episode 0.29244\n",
            "episode 340 / 1500 score 125.00 Q-values 25.44 epsilon 0.12599 Loss_episode 0.32977\n",
            "episode 341 / 1500 score 148.00 Q-values 26.73 epsilon 0.12584 Loss_episode 0.42851\n",
            "episode 342 / 1500 score 147.00 Q-values 26.72 epsilon 0.12569 Loss_episode 0.28140\n",
            "episode 343 / 1500 score 127.00 Q-values 27.03 epsilon 0.12554 Loss_episode 0.21373\n",
            "episode 344 / 1500 score 138.00 Q-values 25.19 epsilon 0.12539 Loss_episode 0.41570\n",
            "episode 345 / 1500 score 198.00 Q-values 26.17 epsilon 0.12524 Loss_episode 0.23277\n",
            "episode 346 / 1500 score 120.00 Q-values 25.29 epsilon 0.12509 Loss_episode 0.21902\n",
            "episode 347 / 1500 score 149.00 Q-values 28.05 epsilon 0.12494 Loss_episode 0.28205\n",
            "episode 348 / 1500 score 15.00 Q-values 30.62 epsilon 0.12479 Loss_episode 0.07562\n",
            "episode 349 / 1500 score 107.00 Q-values 25.36 epsilon 0.12464 Loss_episode 0.24853\n",
            "episode 350 / 1500 score 124.00 Q-values 26.57 epsilon 0.12449 Loss_episode 0.43258\n",
            "episode 351 / 1500 score 137.00 Q-values 27.52 epsilon 0.12434 Loss_episode 0.22745\n",
            "episode 352 / 1500 score 114.00 Q-values 25.77 epsilon 0.12419 Loss_episode 0.34967\n",
            "episode 353 / 1500 score 114.00 Q-values 27.20 epsilon 0.12404 Loss_episode 0.42367\n",
            "episode 354 / 1500 score 139.00 Q-values 28.82 epsilon 0.12389 Loss_episode 0.41561\n",
            "episode 355 / 1500 score 49.00 Q-values 31.56 epsilon 0.12375 Loss_episode 0.89260\n",
            "episode 356 / 1500 score 116.00 Q-values 26.72 epsilon 0.12360 Loss_episode 0.43438\n",
            "episode 357 / 1500 score 12.00 Q-values 34.54 epsilon 0.12345 Loss_episode 0.24280\n",
            "episode 358 / 1500 score 107.00 Q-values 25.59 epsilon 0.12331 Loss_episode 0.21055\n",
            "episode 359 / 1500 score 128.00 Q-values 27.07 epsilon 0.12316 Loss_episode 0.30896\n",
            "episode 360 / 1500 score 107.00 Q-values 25.90 epsilon 0.12301 Loss_episode 0.20973\n",
            "episode 361 / 1500 score 176.00 Q-values 29.59 epsilon 0.12287 Loss_episode 0.55335\n",
            "episode 362 / 1500 score 134.00 Q-values 28.45 epsilon 0.12272 Loss_episode 0.21350\n",
            "episode 363 / 1500 score 126.00 Q-values 27.60 epsilon 0.12258 Loss_episode 0.20365\n",
            "episode 364 / 1500 score 96.00 Q-values 26.22 epsilon 0.12243 Loss_episode 0.36101\n",
            "episode 365 / 1500 score 16.00 Q-values 36.17 epsilon 0.12229 Loss_episode 0.33701\n",
            "episode 366 / 1500 score 161.00 Q-values 28.03 epsilon 0.12214 Loss_episode 0.34843\n",
            "episode 367 / 1500 score 109.00 Q-values 27.24 epsilon 0.12200 Loss_episode 0.21703\n",
            "episode 368 / 1500 score 14.00 Q-values 33.16 epsilon 0.12185 Loss_episode 0.08386\n",
            "episode 369 / 1500 score 38.00 Q-values 28.21 epsilon 0.12171 Loss_episode 0.19382\n",
            "episode 370 / 1500 score 13.00 Q-values 29.86 epsilon 0.12157 Loss_episode 0.36158\n",
            "episode 371 / 1500 score 119.00 Q-values 27.45 epsilon 0.12142 Loss_episode 0.97361\n",
            "episode 372 / 1500 score 14.00 Q-values 35.71 epsilon 0.12128 Loss_episode 0.23122\n",
            "episode 373 / 1500 score 146.00 Q-values 29.29 epsilon 0.12114 Loss_episode 0.89566\n",
            "episode 374 / 1500 score 121.00 Q-values 28.25 epsilon 0.12100 Loss_episode 0.24732\n",
            "episode 375 / 1500 score 84.00 Q-values 30.49 epsilon 0.12085 Loss_episode 0.39227\n",
            "episode 376 / 1500 score 11.00 Q-values 26.32 epsilon 0.12071 Loss_episode 0.77781\n",
            "episode 377 / 1500 score 107.00 Q-values 27.99 epsilon 0.12057 Loss_episode 0.63534\n",
            "episode 378 / 1500 score 23.00 Q-values 26.48 epsilon 0.12043 Loss_episode 0.16241\n",
            "episode 379 / 1500 score 117.00 Q-values 29.54 epsilon 0.12029 Loss_episode 1.18514\n",
            "episode 380 / 1500 score 13.00 Q-values 34.53 epsilon 0.12015 Loss_episode 0.16790\n",
            "episode 381 / 1500 score 149.00 Q-values 28.70 epsilon 0.12001 Loss_episode 0.57838\n",
            "episode 382 / 1500 score 169.00 Q-values 29.84 epsilon 0.11987 Loss_episode 0.50143\n",
            "episode 383 / 1500 score 213.00 Q-values 28.41 epsilon 0.11973 Loss_episode 0.40621\n",
            "episode 384 / 1500 score 40.00 Q-values 26.73 epsilon 0.11959 Loss_episode 0.28278\n",
            "episode 385 / 1500 score 500.00 Q-values 31.05 epsilon 0.11945 Loss_episode 0.44588\n",
            "CPU times: user 4min 8s, sys: 7.23 s, total: 4min 15s\n",
            "Wall time: 4min 14s\n"
          ]
        }
      ]
    },
    {
      "cell_type": "code",
      "metadata": {
        "colab": {
          "base_uri": "https://localhost:8080/",
          "height": 204
        },
        "id": "F_bDn4XqHnF9",
        "outputId": "fb0b6e41-e865-4dc5-e695-818970f1872d"
      },
      "source": [
        "dicte= {'score': scores_all[0], 'Q-values': q_values_all, 'losses': losses_all}\n",
        "import pandas as pd\n",
        "dt_duel= pd.DataFrame(dicte)\n",
        "dt_duel.head()"
      ],
      "execution_count": null,
      "outputs": [
        {
          "output_type": "execute_result",
          "data": {
            "text/html": [
              "<div>\n",
              "<style scoped>\n",
              "    .dataframe tbody tr th:only-of-type {\n",
              "        vertical-align: middle;\n",
              "    }\n",
              "\n",
              "    .dataframe tbody tr th {\n",
              "        vertical-align: top;\n",
              "    }\n",
              "\n",
              "    .dataframe thead th {\n",
              "        text-align: right;\n",
              "    }\n",
              "</style>\n",
              "<table border=\"1\" class=\"dataframe\">\n",
              "  <thead>\n",
              "    <tr style=\"text-align: right;\">\n",
              "      <th></th>\n",
              "      <th>score</th>\n",
              "      <th>Q-values</th>\n",
              "      <th>losses</th>\n",
              "    </tr>\n",
              "  </thead>\n",
              "  <tbody>\n",
              "    <tr>\n",
              "      <th>0</th>\n",
              "      <td>9.0</td>\n",
              "      <td>0.110914</td>\n",
              "      <td>NaN</td>\n",
              "    </tr>\n",
              "    <tr>\n",
              "      <th>1</th>\n",
              "      <td>13.0</td>\n",
              "      <td>0.146747</td>\n",
              "      <td>NaN</td>\n",
              "    </tr>\n",
              "    <tr>\n",
              "      <th>2</th>\n",
              "      <td>11.0</td>\n",
              "      <td>0.134228</td>\n",
              "      <td>1.023668</td>\n",
              "    </tr>\n",
              "    <tr>\n",
              "      <th>3</th>\n",
              "      <td>11.0</td>\n",
              "      <td>0.527178</td>\n",
              "      <td>0.296114</td>\n",
              "    </tr>\n",
              "    <tr>\n",
              "      <th>4</th>\n",
              "      <td>14.0</td>\n",
              "      <td>0.785194</td>\n",
              "      <td>0.056428</td>\n",
              "    </tr>\n",
              "  </tbody>\n",
              "</table>\n",
              "</div>"
            ],
            "text/plain": [
              "   score  Q-values    losses\n",
              "0    9.0  0.110914       NaN\n",
              "1   13.0  0.146747       NaN\n",
              "2   11.0  0.134228  1.023668\n",
              "3   11.0  0.527178  0.296114\n",
              "4   14.0  0.785194  0.056428"
            ]
          },
          "metadata": {},
          "execution_count": 40
        }
      ]
    },
    {
      "cell_type": "code",
      "metadata": {
        "id": "BkRZsb_5Z8hv"
      },
      "source": [
        "dt_duel.to_csv('dt_duel_exp4.csv', index= False)"
      ],
      "execution_count": null,
      "outputs": []
    },
    {
      "cell_type": "code",
      "metadata": {
        "id": "uO1DYNd5kJVg",
        "colab": {
          "base_uri": "https://localhost:8080/",
          "height": 282
        },
        "outputId": "5e8d58a6-4a8a-4bee-f8ab-812b71b468ac"
      },
      "source": [
        "plt.plot(scores_all[0])"
      ],
      "execution_count": null,
      "outputs": [
        {
          "output_type": "execute_result",
          "data": {
            "text/plain": [
              "[<matplotlib.lines.Line2D at 0x7fc718a53e10>]"
            ]
          },
          "metadata": {},
          "execution_count": 49
        },
        {
          "output_type": "display_data",
          "data": {
            "image/png": "[encoded data removed]",
            "text/plain": [
              "<Figure size 432x288 with 1 Axes>"
            ]
          },
          "metadata": {
            "needs_background": "light"
          }
        }
      ]
    },
    {
      "cell_type": "code",
      "metadata": {
        "colab": {
          "base_uri": "https://localhost:8080/",
          "height": 282
        },
        "id": "xOzU4VIwoQgw",
        "outputId": "884e28b5-8c8a-4ba0-8357-8756a3e275f1"
      },
      "source": [
        "plt.plot(losses_all)"
      ],
      "execution_count": null,
      "outputs": [
        {
          "output_type": "execute_result",
          "data": {
            "text/plain": [
              "[<matplotlib.lines.Line2D at 0x7fc7166877d0>]"
            ]
          },
          "metadata": {},
          "execution_count": 50
        },
        {
          "output_type": "display_data",
          "data": {
            "image/png": "[encoded data removed]",
            "text/plain": [
              "<Figure size 432x288 with 1 Axes>"
            ]
          },
          "metadata": {
            "needs_background": "light"
          }
        }
      ]
    },
    {
      "cell_type": "code",
      "metadata": {
        "id": "wfuk1jsdano6"
      },
      "source": [
        ""
      ],
      "execution_count": null,
      "outputs": []
    },
    {
      "cell_type": "code",
      "metadata": {
        "colab": {
          "base_uri": "https://localhost:8080/",
          "height": 350
        },
        "id": "BJ-gy2wnanaQ",
        "outputId": "97795a7e-82f2-45d6-b0ea-11b05187a251"
      },
      "source": [
        "plt.figure(figsize=(20,5))\n",
        "\n",
        "plt.subplot(131)\n",
        "plt.title('rewards per episode')\n",
        "plt.xlabel(\"Rewards\")\n",
        "plt.ylabel('Rewards per episode')\n",
        "plt.plot(np.ones(390)*500, color= 'red')\n",
        "plt.plot(scores_all[0])\n",
        "plt.grid()\n",
        "\n",
        "plt.subplot(132)\n",
        "plt.title('Q-values per episodes')\n",
        "plt.xlabel('Episodes')\n",
        "plt.ylabel('Q-values per Episode')\n",
        "plt.plot(q_values_all)\n",
        "plt.grid()\n",
        "\n",
        "plt.subplot(133)\n",
        "plt.title('Loss values per episode')\n",
        "plt.xlabel(\"Episodes\")\n",
        "plt.ylabel('Loss values per episode')\n",
        "plt.plot(losses_all)\n",
        "plt.grid()\n",
        "# plt.yscale('log')\n",
        "plt.show()"
      ],
      "execution_count": null,
      "outputs": [
        {
          "output_type": "display_data",
          "data": {
            "image/png": "[encoded data removed]",
            "text/plain": [
              "<Figure size 1440x360 with 3 Axes>"
            ]
          },
          "metadata": {
            "needs_background": "light"
          }
        }
      ]
    },
    {
      "cell_type": "code",
      "metadata": {
        "id": "rE4SGaHZanRJ"
      },
      "source": [
        ""
      ],
      "execution_count": null,
      "outputs": []
    },
    {
      "cell_type": "code",
      "metadata": {
        "colab": {
          "base_uri": "https://localhost:8080/"
        },
        "id": "-znnwMYzgrb2",
        "outputId": "236bc7dc-f4f5-4fb5-d0d2-0a985c4315ac"
      },
      "source": [
        "# Load a model\n",
        "model = Dueling_DQNAgent(env).q_net\n",
        "model.load_state_dict(torch.load('model.ckpt'))\n",
        "model.eval()"
      ],
      "execution_count": null,
      "outputs": [
        {
          "output_type": "execute_result",
          "data": {
            "text/plain": [
              "Model(\n",
              "  (feature): Sequential(\n",
              "    (0): Linear(in_features=4, out_features=128, bias=True)\n",
              "    (1): ReLU()\n",
              "  )\n",
              "  (advantage): Sequential(\n",
              "    (0): Linear(in_features=128, out_features=128, bias=True)\n",
              "    (1): ReLU()\n",
              "    (2): Linear(in_features=128, out_features=2, bias=True)\n",
              "  )\n",
              "  (value): Sequential(\n",
              "    (0): Linear(in_features=128, out_features=128, bias=True)\n",
              "    (1): ReLU()\n",
              "    (2): Linear(in_features=128, out_features=1, bias=True)\n",
              "  )\n",
              ")"
            ]
          },
          "metadata": {},
          "execution_count": 19
        }
      ]
    },
    {
      "cell_type": "code",
      "metadata": {
        "id": "7YWJ8Ob0hnKn"
      },
      "source": [
        "!pip install gym > /dev/null 2>&1"
      ],
      "execution_count": null,
      "outputs": []
    },
    {
      "cell_type": "code",
      "metadata": {
        "id": "OWhdVjw2iwEv"
      },
      "source": [
        "!pip install gym pyvirtualdisplay > /dev/null 2>&1\n",
        "!apt-get install -y xvfb python-opengl ffmpeg > /dev/null 2>&1"
      ],
      "execution_count": null,
      "outputs": []
    },
    {
      "cell_type": "code",
      "metadata": {
        "colab": {
          "base_uri": "https://localhost:8080/"
        },
        "id": "BkNG89zvgreS",
        "outputId": "61eeb98b-0250-4de1-ad3c-90d9e7377ea3"
      },
      "source": [
        "!apt-get update > /dev/null 2>&1\n",
        "!apt-get install cmake > /dev/null 2>&1\n",
        "!pip install --upgrade setuptools 2>&1\n",
        "!pip install ez_setup > /dev/null 2>&1"
      ],
      "execution_count": null,
      "outputs": [
        {
          "output_type": "stream",
          "name": "stdout",
          "text": [
            "Requirement already satisfied: setuptools in /usr/local/lib/python3.7/dist-packages (58.1.0)\n"
          ]
        }
      ]
    },
    {
      "cell_type": "code",
      "metadata": {
        "id": "J50Wxc6ogrgv"
      },
      "source": [
        "import tqdm\n",
        "import gym\n",
        "from gym import logger as gymlogger\n",
        "from gym.wrappers import Monitor\n",
        "gymlogger.set_level(40) #error only\n",
        "import copy\n",
        "import torch\n",
        "import torch.nn as nn\n",
        "import torch.nn.functional as F \n",
        "from torch import optim\n",
        "import numpy as np\n",
        "import pandas as pd\n",
        "import seaborn as sns\n",
        "from pyvirtualdisplay import Display\n",
        "from IPython import display as ipythondisplay\n",
        "from IPython.display import clear_output\n",
        "from pathlib import Path\n",
        "import random, os.path, math, glob, csv, base64, itertools, sys\n",
        "from pprint import pprint\n",
        "import io\n",
        "from IPython.display import HTML\n",
        "import gym\n",
        "import torch\n",
        "import torch.nn as nn\n",
        "import numpy as np\n",
        "from collections import deque\n",
        "from itertools import count\n",
        "import torch.nn.functional as F\n",
        "from torch.nn.utils.clip_grad import clip_grad_norm\n",
        "import matplotlib\n",
        "import matplotlib.pyplot as plt\n",
        "%matplotlib inline"
      ],
      "execution_count": null,
      "outputs": []
    },
    {
      "cell_type": "code",
      "metadata": {
        "colab": {
          "base_uri": "https://localhost:8080/"
        },
        "id": "Xj0-DQIggrjK",
        "outputId": "04e305b3-2f13-4e08-d493-482ec4c911f2"
      },
      "source": [
        "# The following code is will be used to visualize the environments.\n",
        "\n",
        "def show_video(directory):\n",
        "    html = []\n",
        "    for mp4 in Path(directory).glob(\"*.mp4\"):\n",
        "        video_b64 = base64.b64encode(mp4.read_bytes())\n",
        "        html.append('''<video alt=\"{}\" autoplay \n",
        "                      loop controls style=\"height: 400px;\">\n",
        "                      <source src=\"data:video/mp4;base64,{}\" type=\"video/mp4\" />\n",
        "                 </video>'''.format(mp4, video_b64.decode('ascii')))\n",
        "    ipythondisplay.display(ipythondisplay.HTML(data=\"<br>\".join(html)))\n",
        "    \n",
        "  \n",
        "from pyvirtualdisplay import Display\n",
        "display = Display(visible=0, size=(1400, 900))\n",
        "display.start()"
      ],
      "execution_count": null,
      "outputs": [
        {
          "output_type": "execute_result",
          "data": {
            "text/plain": [
              "<pyvirtualdisplay.display.Display at 0x7f1927f26fd0>"
            ]
          },
          "metadata": {},
          "execution_count": 38
        }
      ]
    },
    {
      "cell_type": "code",
      "metadata": {
        "colab": {
          "base_uri": "https://localhost:8080/",
          "height": 472
        },
        "id": "GTjITyXjgrlZ",
        "outputId": "6189663f-93a7-4234-bee2-f64916a221e0"
      },
      "source": [
        "def render(model):\n",
        "\n",
        "  # This block displays your policy in a video\n",
        "  video_env = Monitor(env, \"./gym-results\", force=True, video_callable=lambda episode: True)\n",
        "\n",
        "  done = False\n",
        "  reward_episode = 0\n",
        "  state = video_env.reset()\n",
        "  k = 0 # End of the episode\n",
        "  while not done:\n",
        "      action, _ = model.selection_action(state, epsilon= 0.01)\n",
        "      # action= torch.argmax(action, dim=1)[0].item()\n",
        "      next_state, reward, done, info = video_env.step(action)\n",
        "      reward_episode += reward\n",
        "      state = next_state\n",
        "      k += 1\n",
        "      if k > 500:\n",
        "        break\n",
        "\n",
        "  video_env.close()\n",
        "  show_video(\"./gym-results\")\n",
        "\n",
        "  print(f'Reward: {reward_episode}')\n",
        "\n",
        "\n",
        "render(q_net)"
      ],
      "execution_count": null,
      "outputs": [
        {
          "output_type": "stream",
          "name": "stderr",
          "text": [
            "/usr/local/lib/python3.7/dist-packages/ipykernel_launcher.py:2: UserWarning: volatile was removed and now has no effect. Use `with torch.no_grad():` instead.\n",
            "  \n"
          ]
        },
        {
          "output_type": "display_data",
          "data": {
            "text/html": [
              "<video alt=\"gym-results/openaigym.video.1.77.video000000.mp4\" autoplay \n",
              "                      loop controls style=\"height: 400px;\">\n",
              "                      <source src=\"data:video/mp4;base64,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\" type=\"video/mp4\" />\n",
              "                 </video>"
            ],
            "text/plain": [
              "<IPython.core.display.HTML object>"
            ]
          },
          "metadata": {}
        },
        {
          "output_type": "stream",
          "name": "stdout",
          "text": [
            "Reward: 401.0\n"
          ]
        }
      ]
    },
    {
      "cell_type": "code",
      "metadata": {
        "id": "5pc07rV3grnt"
      },
      "source": [
        ""
      ],
      "execution_count": null,
      "outputs": []
    }
  ]
}